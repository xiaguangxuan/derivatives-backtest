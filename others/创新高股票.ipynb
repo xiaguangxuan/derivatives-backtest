{
 "cells": [
  {
   "cell_type": "code",
   "execution_count": 1,
   "metadata": {},
   "outputs": [
    {
     "name": "stdout",
     "output_type": "stream",
     "text": [
      "Welcome to use Wind Quant API for Python (WindPy)!\n",
      "\n",
      "COPYRIGHT (C) 2020 WIND INFORMATION CO., LTD. ALL RIGHTS RESERVED.\n",
      "IN NO CIRCUMSTANCE SHALL WIND BE RESPONSIBLE FOR ANY DAMAGES OR LOSSES CAUSED BY USING WIND QUANT API FOR Python.\n"
     ]
    }
   ],
   "source": [
    "# import pandas as pd\n",
    "# import numpy as np\n",
    "# import matplotlib.pyplot as plt\n",
    "# import matplotlib as mpl\n",
    "# from tqdm import tqdm\n",
    "# import akshare as ak\n",
    "# from dateutil import relativedelta\n",
    "# from WindPy import *\n",
    "# w.start()\n",
    "# import datetime\n",
    "# plt.rcParams[\"font.sans-serif\"]=[\"SimHei\"] #设置字体\n",
    "# mpl.rcParams['axes.unicode_minus']=False\n",
    "# import warnings\n",
    "# warnings.filterwarnings('ignore')\n",
    "# import sys\n",
    "# # 加载当前路径\n",
    "# sys.path.append('.')"
   ]
  },
  {
   "cell_type": "code",
   "execution_count": 69,
   "metadata": {},
   "outputs": [],
   "source": [
    "# bind_windth = 2\n",
    "# data = pd.read_csv('./data/全部A股weekly.csv')\n",
    "# data = data[data['日期'] > '2017-01-01']\n",
    "# timestamp = sorted(list(set(data['日期'])))\n",
    "# data = data.set_index('日期')\n",
    "# value = data.groupby('代码')[['成交金额(元)']].rolling(1).mean()\n",
    "# high = data.groupby('代码')[['最高价(元)']].rolling(1).max()\n",
    "# low = data.groupby('代码')[['最低价(元)']].rolling(1).min()\n",
    "# data = high.join(low)\n",
    "# highest = data['最高价(元)'].groupby('代码').rolling(bind_windth, min_periods = bind_windth).max()\n",
    "# lowest = data['最低价(元)'].groupby('代码').rolling(bind_windth, min_periods = bind_windth).min()\n",
    "# # highest = data['最高价(元)'].groupby('代码').cummax()\n",
    "# # lowest = data['最低价(元)'].groupby('代码').cummin()\n",
    "# data = data.reset_index()\n",
    "# data['12月最高'] = highest.values\n",
    "# data['12月最低'] = lowest.values\n",
    "# data['近一周创新高'] = data['最高价(元)'] == data['12月最高']\n",
    "# data['近一周创新低'] = data['最低价(元)'] == data['12月最低']"
   ]
  },
  {
   "cell_type": "code",
   "execution_count": 21,
   "metadata": {},
   "outputs": [],
   "source": [
    "# index_list = \"CI005001.WI,CI005002.WI,CI005003.WI,CI005004.WI,CI005005.WI,CI005006.WI,CI005007.WI,CI005008.WI,CI005009.WI,CI005010.WI,CI005011.WI,CI005012.WI,CI005013.WI,CI005014.WI,CI005015.WI,CI005016.WI,CI005017.WI,CI005018.WI,CI005019.WI,CI005020.WI,CI005021.WI,CI005022.WI,CI005023.WI,CI005024.WI,CI005025.WI,CI005026.WI,CI005027.WI,CI005028.WI,CI005029.WI,CI005030.WI\".split(',')\n",
    "# index_name = w.wss(\"CI005001.WI,CI005002.WI,CI005003.WI,CI005004.WI,CI005005.WI,CI005006.WI,CI005007.WI,CI005008.WI,CI005009.WI,CI005010.WI,CI005011.WI,CI005012.WI,CI005013.WI,CI005014.WI,CI005015.WI,CI005016.WI,CI005017.WI,CI005018.WI,CI005019.WI,CI005020.WI,CI005021.WI,CI005022.WI,CI005023.WI,CI005024.WI,CI005025.WI,CI005026.WI,CI005027.WI,CI005028.WI,CI005029.WI,CI005030.WI\", \"sec_name\", \"\", usedf=True)[1]\n",
    "# index_time = w.wss(\"CI005001.WI,CI005002.WI,CI005003.WI,CI005004.WI,CI005005.WI,CI005006.WI,CI005007.WI,CI005008.WI,CI005009.WI,CI005010.WI,CI005011.WI,CI005012.WI,CI005013.WI,CI005014.WI,CI005015.WI,CI005016.WI,CI005017.WI,CI005018.WI,CI005019.WI,CI005020.WI,CI005021.WI,CI005022.WI,CI005023.WI,CI005024.WI,CI005025.WI,CI005026.WI,CI005027.WI,CI005028.WI,CI005029.WI,CI005030.WI\", \"ipo_date\", \"\", usedf=True)[1]\n",
    "# trade_date = w.tdays('2018-01-01', \"2023-09-22\", \"Period=W\", usedf=0).Data[0]"
   ]
  },
  {
   "cell_type": "code",
   "execution_count": 5,
   "metadata": {},
   "outputs": [
    {
     "name": "stderr",
     "output_type": "stream",
     "text": [
      "100%|██████████| 30/30 [16:42<00:00, 33.40s/it]\n"
     ]
    }
   ],
   "source": [
    "# pool_df = pd.DataFrame()\n",
    "# for index_code in tqdm(index_list):\n",
    "#     # pool_information = w.wset(\"indexhistory\", \"startdate=1900-06-01;enddate=2023-08-23;windcode=\" + index_code + \";field=tradeDate,tradeCode,tradeName,tradeStatus\", usedf=True)[1]\n",
    "#     pool_information = pd.read_excel('./data/中信行业成分进出记录.xlsx', sheet_name = index_code)\n",
    "#     pool_information.columns = ['日期', '代码', '简称', '纳入/剔除']\n",
    "#     pool_information = pool_information.sort_values('日期', ignore_index = 1)\n",
    "#     code_list = sorted(list(set(pool_information['代码'])))\n",
    "#     # 适应 Akshare 数据库 \n",
    "#     pool_information['代码'] = pool_information['代码']\n",
    "\n",
    "#     pool_in_information = pool_information[pool_information['纳入/剔除'] == '纳入']\n",
    "#     pool_out_information = pool_information[pool_information['纳入/剔除'] == '剔除']\n",
    "\n",
    "#     add_in = dict()\n",
    "#     move_out = dict()\n",
    "\n",
    "#     for name, group in pool_in_information.groupby('日期')['代码']:\n",
    "#         add_in[name] = set(group)\n",
    "\n",
    "#     for name, group in pool_out_information.groupby('日期')['代码']:\n",
    "#         move_out[name] = set(group)\n",
    "\n",
    "#     t = list(add_in.keys()) + list(move_out.keys())\n",
    "#     t = sorted(list(set(t)))\n",
    "#     population_pool = {t[0]: list(add_in[t[0]])}\n",
    "#     flag = 0\n",
    "#     for i in range(1, len(t)):\n",
    "#         if (t[i] in add_in) & (t[i] in move_out):\n",
    "#             population_pool[t[i]] = list((set(population_pool[t[i - 1]]) | add_in[t[i]]) - move_out[t[i]])\n",
    "#         elif t[i] in add_in:\n",
    "#             population_pool[t[i]] = list(set(population_pool[t[i - 1]]) | add_in[t[i]])\n",
    "#         elif t[i] in move_out:\n",
    "#             population_pool[t[i]] = list(set(population_pool[t[i - 1]]) - move_out[t[i]])\n",
    "#         if (flag == 0) & (len(population_pool[t[i]]) > 10):\n",
    "#             flag = max(t[i].strftime('%Y-%m-%d'), str(index_time.loc[index_code].values[0]), '2018-01-01')\n",
    "#             # flag = max(t[i].strftime('%Y-%m-%d'), '2010-01-01')\n",
    "\n",
    "#     # 如果没有更新到今天\n",
    "#     if datetime.date.today().strftime('%Y-%m-%d') != t[-1]:\n",
    "#         # 给今天赋予一个空值，后期填补至今天\n",
    "#         population_pool[datetime.date.today().strftime('%Y-%m-%d')] = np.nan\n",
    "\n",
    "#     population_pool_series = pd.Series(population_pool)\n",
    "#     population_pool_series.index = pd.DatetimeIndex(population_pool_series.index)\n",
    "\n",
    "#     # 获得每个交易日的信息\n",
    "#     # last_trade_date = w.tdays(flag, \"2023-08-23\", \"Period=W\", usedf=0).Data[0]\n",
    "#     # last_trade_date = timestamp[timestamp.index(flag): '2023-07-31']\n",
    "\n",
    "#     last_trade_date = [i for i in trade_date if i > datetime.datetime.strptime(flag, '%Y-%m-%d')]\n",
    "#     last_trade_date = [t.strftime('%Y-%m-%d') for t in last_trade_date]\n",
    "#     idx = population_pool_series.index\n",
    "#     idx = idx.append(pd.DatetimeIndex(last_trade_date))\n",
    "#     idx = idx.drop_duplicates()\n",
    "#     population_pool_series = population_pool_series.reindex(idx)\n",
    "#     population_pool_series = population_pool_series.sort_index()\n",
    "#     # 更改日期，填补空值\n",
    "#     population_pool_series = population_pool_series.ffill()\n",
    "#     last_trade_date_datetime = pd.DatetimeIndex(last_trade_date)\n",
    "\n",
    "#     for i in population_pool_series.index:\n",
    "#         temp_df = pd.DataFrame(population_pool_series[i])\n",
    "#         temp_df['日期'] = i\n",
    "#         temp_df['行业'] = index_code\n",
    "#         pool_df = pd.concat([pool_df, temp_df])"
   ]
  },
  {
   "cell_type": "code",
   "execution_count": 15,
   "metadata": {},
   "outputs": [],
   "source": [
    "# pool_df.columns = ['代码', '日期', '行业']"
   ]
  },
  {
   "cell_type": "code",
   "execution_count": 9,
   "metadata": {},
   "outputs": [],
   "source": [
    "# pool_df.to_csv('./data/代码-日期-与中信行业的映射.csv')"
   ]
  },
  {
   "cell_type": "code",
   "execution_count": 70,
   "metadata": {},
   "outputs": [],
   "source": [
    "# data['日期'] = pd.to_datetime(data['日期'])\n",
    "# temp = pd.merge(data, pool_df, on=['代码', '日期'])"
   ]
  },
  {
   "cell_type": "code",
   "execution_count": 71,
   "metadata": {},
   "outputs": [],
   "source": [
    "# temp_up = temp[temp['日期'] >= '2018-01-01'].groupby(['行业', '日期'])['近一周创新高'].mean().unstack().T\n",
    "# temp_down = temp[temp['日期'] >= '2018-01-01'].groupby(['行业', '日期'])['近一周创新低'].mean().unstack().T"
   ]
  },
  {
   "cell_type": "code",
   "execution_count": 73,
   "metadata": {},
   "outputs": [
    {
     "name": "stderr",
     "output_type": "stream",
     "text": [
      "100%|██████████| 30/30 [00:11<00:00,  2.57it/s]\n"
     ]
    }
   ],
   "source": [
    "# for index_code in tqdm(index_list):\n",
    "#     up_factor = temp_up[index_code].dropna()\n",
    "#     down_factor = temp_down[index_code].dropna()\n",
    "#     mkt = w.wsd(index_code, \"close\", up_factor.index[0], \"2023-09-22\", \"Period=W;Fill=Previous\", usedf=True)[1]\n",
    "#     fig, ax = plt.subplots(figsize = (15, 7))\n",
    "#     ax.fill_between(up_factor.index, 0, up_factor.values, facecolor = 'silver')\n",
    "#     # ax.fill_between(down_factor.index, 0, -down_factor.values, facecolor = 'silver')\n",
    "#     ax1 = ax.twinx() \n",
    "#     mkt.plot(ax = ax1)\n",
    "#     ax.grid(axis = 'y', linestyle='--')\n",
    "#     plt.legend(index_name.loc[index_code])\n",
    "\n",
    "#     plt.savefig('./output/'+ str(index_name.loc[index_code].values[0]) + '.pdf')\n",
    "#     plt.close()"
   ]
  },
  {
   "cell_type": "code",
   "execution_count": null,
   "metadata": {},
   "outputs": [],
   "source": []
  },
  {
   "cell_type": "code",
   "execution_count": 18,
   "metadata": {},
   "outputs": [
    {
     "name": "stderr",
     "output_type": "stream",
     "text": [
      "100%|██████████| 30/30 [22:25<00:00, 44.84s/it]\n"
     ]
    }
   ],
   "source": [
    "# # Database_Hindenburg = pd.DataFrame()\n",
    "# for index_code in tqdm(index_list):\n",
    "#     # pool_information = w.wset(\"indexhistory\", \"startdate=1900-06-01;enddate=2023-08-23;windcode=\" + index_code + \";field=tradeDate,tradeCode,tradeName,tradeStatus\", usedf=True)[1]\n",
    "#     pool_information = pd.read_excel('./data/中信行业成分进出记录.xlsx', sheet_name = index_code)\n",
    "#     pool_information.columns = ['日期', '代码', '简称', '纳入/剔除']\n",
    "#     pool_information = pool_information.sort_values('日期', ignore_index = 1)\n",
    "#     code_list = sorted(list(set(pool_information['代码'])))\n",
    "#     # 适应 Akshare 数据库 \n",
    "#     pool_information['代码'] = pool_information['代码']\n",
    "\n",
    "#     pool_in_information = pool_information[pool_information['纳入/剔除'] == '纳入']\n",
    "#     pool_out_information = pool_information[pool_information['纳入/剔除'] == '剔除']\n",
    "\n",
    "#     add_in = dict()\n",
    "#     move_out = dict()\n",
    "\n",
    "#     for name, group in pool_in_information.groupby('日期')['代码']:\n",
    "#         add_in[name] = set(group)\n",
    "\n",
    "#     for name, group in pool_out_information.groupby('日期')['代码']:\n",
    "#         move_out[name] = set(group)\n",
    "\n",
    "#     t = list(add_in.keys()) + list(move_out.keys())\n",
    "#     t = sorted(list(set(t)))\n",
    "#     population_pool = {t[0]: list(add_in[t[0]])}\n",
    "#     flag = 0\n",
    "#     for i in range(1, len(t)):\n",
    "#         if (t[i] in add_in) & (t[i] in move_out):\n",
    "#             population_pool[t[i]] = list((set(population_pool[t[i - 1]]) | add_in[t[i]]) - move_out[t[i]])\n",
    "#         elif t[i] in add_in:\n",
    "#             population_pool[t[i]] = list(set(population_pool[t[i - 1]]) | add_in[t[i]])\n",
    "#         elif t[i] in move_out:\n",
    "#             population_pool[t[i]] = list(set(population_pool[t[i - 1]]) - move_out[t[i]])\n",
    "#         if (flag == 0) & (len(population_pool[t[i]]) > 10):\n",
    "#             flag = max(t[i].strftime('%Y-%m-%d'), str(index_time.loc[index_code].values[0]), '2017-01-01')\n",
    "#             # flag = max(t[i].strftime('%Y-%m-%d'), '2010-01-01')\n",
    "\n",
    "#     # 如果没有更新到今天\n",
    "#     if datetime.date.today().strftime('%Y-%m-%d') != t[-1]:\n",
    "#         # 给今天赋予一个空值，后期填补至今天\n",
    "#         population_pool[datetime.date.today().strftime('%Y-%m-%d')] = np.nan\n",
    "\n",
    "#     population_pool_series = pd.Series(population_pool)\n",
    "#     population_pool_series.index = pd.DatetimeIndex(population_pool_series.index)\n",
    "\n",
    "#     # 获得每个交易日的信息\n",
    "#     # last_trade_date = w.tdays(flag, \"2023-08-23\", \"Period=W\", usedf=0).Data[0]\n",
    "#     # last_trade_date = timestamp[timestamp.index(flag): '2023-07-31']\n",
    "\n",
    "#     last_trade_date = [i for i in trade_date if i > datetime.datetime.strptime(flag, '%Y-%m-%d')]\n",
    "#     last_trade_date = [t.strftime('%Y-%m-%d') for t in last_trade_date]\n",
    "#     idx = population_pool_series.index\n",
    "#     idx = idx.append(pd.DatetimeIndex(last_trade_date))\n",
    "#     idx = idx.drop_duplicates()\n",
    "#     population_pool_series = population_pool_series.reindex(idx)\n",
    "#     population_pool_series = population_pool_series.sort_index()\n",
    "#     # 更改日期，填补空值\n",
    "#     population_pool_series = population_pool_series.ffill()\n",
    "#     last_trade_date_datetime = pd.DatetimeIndex(last_trade_date)\n",
    "#     # trade_month = [t.strftime('%Y-%m-%d') for t in last_trade_date]\n",
    "#     HindenburgIndex01 = pd.Series()\n",
    "#     HindenburgIndex02 = pd.Series()\n",
    "#     for i in range(len(last_trade_date)):\n",
    "#         # value_month = value.loc[population_pool_series[last_trade_date[i]]].query('日期 == \"' +  last_trade_date[i]  +  '\"')\n",
    "#         # value_rank = value_month.rank(pct = True)\n",
    "#         # # 处于行业前 30%\n",
    "#         # fliter = value_rank[value_rank >= 0.7].dropna()\n",
    "#         # 样本池子\n",
    "#         sample_pool = population_pool_series[last_trade_date[i]]\n",
    "        \n",
    "#         # HindenburgIndex[last_trade_date_datetime[i]] = (NewHighNum - NewLowNum) / len(sample_pool)\n",
    "\n",
    "#         sample_year_data = data[(data['代码'].isin(sample_pool)) & (data['日期'] == last_trade_date[i])]\n",
    "#         # sample_month_data = data[(data['代码'].isin(sample_pool)) & (data['日期'] >= last_trade_date[i - 3]) & (data['日期'] <= last_trade_date[i])]\n",
    "\n",
    "#         sign1 = sum(sample_year_data['近一周创新低'])\n",
    "#         # NewLowNum = np.sum(sign1)\n",
    "#         # 可以对计算 max 的数据再次切片，剔除已经是 min 的标的\n",
    "#         sign2 = sum(sample_year_data['近一周创新高'])\n",
    "        \n",
    "#         HindenburgIndex01[last_trade_date_datetime[i]] = sign2 / len(sample_pool)\n",
    "#         HindenburgIndex02[last_trade_date_datetime[i]] = sign1 / len(sample_pool)\n",
    "\n",
    "#     # mkt = w.wsd(index_code, \"close\", flag, \"2023-07-31\", \"Period=M;Fill=Previous\", usedf=True)[1]\n",
    "#     # ax = HindenburgIndex.plot(figsize = (15, 7), color = 'silver')\n",
    "#     # ax1 = ax.twinx() \n",
    "#     # mkt.plot(ax = ax1)\n",
    "#     # plt.legend(index_name.loc[index_code])\n",
    "\n",
    "#     mkt = w.wsd(index_code, \"close\", last_trade_date[0], \"2023-09-08\", \"Period=W;Fill=Previous\", usedf=True)[1]\n",
    "#     fig, ax = plt.subplots(figsize = (15, 7))\n",
    "#     ax.fill_between(HindenburgIndex01.index, 0, HindenburgIndex01.values, facecolor = 'silver')\n",
    "#     ax.fill_between(-HindenburgIndex02.index, 0, HindenburgIndex02.values, facecolor = 'silver')\n",
    "#     ax1 = ax.twinx() \n",
    "#     mkt.plot(ax = ax1)\n",
    "#     ax.grid(axis = 'y', linestyle='--')\n",
    "#     plt.legend(index_name.loc[index_code])\n",
    "\n",
    "#     plt.savefig('./output/'+ str(index_name.loc[index_code].values[0]) + '.pdf')\n",
    "#     plt.close()\n",
    "#     # Database_Hindenburg[index_code] = HindenburgIndex01"
   ]
  },
  {
   "cell_type": "code",
   "execution_count": null,
   "metadata": {},
   "outputs": [],
   "source": []
  }
 ],
 "metadata": {
  "kernelspec": {
   "display_name": "base",
   "language": "python",
   "name": "python3"
  },
  "language_info": {
   "codemirror_mode": {
    "name": "ipython",
    "version": 3
   },
   "file_extension": ".py",
   "mimetype": "text/x-python",
   "name": "python",
   "nbconvert_exporter": "python",
   "pygments_lexer": "ipython3",
   "version": "3.8.8"
  },
  "orig_nbformat": 4
 },
 "nbformat": 4,
 "nbformat_minor": 2
}
