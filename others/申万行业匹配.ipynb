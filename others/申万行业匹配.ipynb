{
 "cells": [
  {
   "cell_type": "code",
   "execution_count": 1,
   "metadata": {},
   "outputs": [
    {
     "name": "stdout",
     "output_type": "stream",
     "text": [
      "Welcome to use Wind Quant API for Python (WindPy)!\n",
      "\n",
      "COPYRIGHT (C) 2020 WIND INFORMATION CO., LTD. ALL RIGHTS RESERVED.\n",
      "IN NO CIRCUMSTANCE SHALL WIND BE RESPONSIBLE FOR ANY DAMAGES OR LOSSES CAUSED BY USING WIND QUANT API FOR Python.\n"
     ]
    },
    {
     "data": {
      "text/plain": [
       ".ErrorCode=0\n",
       ".Data=[OK!]"
      ]
     },
     "execution_count": 1,
     "metadata": {},
     "output_type": "execute_result"
    }
   ],
   "source": [
    "# import pandas as pd\n",
    "# import numpy as np\n",
    "# from WindPy import *\n",
    "# w.start()"
   ]
  },
  {
   "cell_type": "code",
   "execution_count": 2,
   "metadata": {},
   "outputs": [],
   "source": [
    "# index_list = w.wset(\"sectorconstituent\", \"date=2023-08-18;sectorId=a39901011h000000\", usedf=True)[1]\n",
    "# index_list = index_list[['wind_code', 'sec_name']]\n",
    "# index_code_list = index_list['wind_code'].tolist()"
   ]
  },
  {
   "cell_type": "code",
   "execution_count": 3,
   "metadata": {},
   "outputs": [],
   "source": [
    "# index_data = pd.read_csv('./data/申万二级行业行情序列.csv', encoding='gbk', usecols = [0, 1, 2, 4])\n",
    "# fund_data = pd.read_csv('./data/行业ETF行情序列.csv', encoding='gbk', usecols = [0, 1, 2, 4])\n",
    "# index_data = index_data[index_data['涨跌幅(%)'] != '--']\n",
    "# fund_data = fund_data[fund_data['涨跌幅(%)'] != '--']\n",
    "# fund_dict = fund_data[['代码', '简称']].drop_duplicates(ignore_index = True)"
   ]
  },
  {
   "cell_type": "code",
   "execution_count": 4,
   "metadata": {},
   "outputs": [],
   "source": [
    "# fund_scale = w.wss(fund_dict['代码'].tolist(), \"fund_fundscale, ipo_date\", \"\", usedf=True)[1]"
   ]
  },
  {
   "cell_type": "code",
   "execution_count": 5,
   "metadata": {},
   "outputs": [],
   "source": [
    "# index_data['对数收益率'] = index_data['涨跌幅(%)'].apply(lambda x: np.log(1 + float(x)/ 100))\n",
    "# index_data = index_data.set_index('日期')"
   ]
  },
  {
   "cell_type": "code",
   "execution_count": 130,
   "metadata": {},
   "outputs": [],
   "source": [
    "# fund_data['对数收益率'] = fund_data['涨跌幅(%)'].apply(lambda x: np.log(1 + float(x)/ 100))\n",
    "# fund_data = fund_data[['日期', '代码', '对数收益率']].set_index(['日期', '代码']).unstack()\n",
    "# fund_data = fund_data.T.droplevel(0)\n",
    "# fund_data = fund_data.loc[fund_scale[(fund_scale['IPO_DATE'] >= '2023-03-18') & (fund_scale['IPO_DATE'] < '2023-07-18')].index]\n",
    "# fund_data = fund_data.T"
   ]
  },
  {
   "cell_type": "code",
   "execution_count": 7,
   "metadata": {},
   "outputs": [
    {
     "name": "stderr",
     "output_type": "stream",
     "text": [
      "<ipython-input-7-9ccf29b518ad>:3: SettingWithCopyWarning: \n",
      "A value is trying to be set on a copy of a slice from a DataFrame.\n",
      "Try using .loc[row_indexer,col_indexer] = value instead\n",
      "\n",
      "See the caveats in the documentation: https://pandas.pydata.org/pandas-docs/stable/user_guide/indexing.html#returning-a-view-versus-a-copy\n",
      "  fund_data['对数收益率'] = fund_data['涨跌幅(%)'].apply(lambda x: np.log(1 + float(x)/ 100))\n"
     ]
    }
   ],
   "source": [
    "# # 2023 年之后的表现\n",
    "# fund_data = fund_data[fund_data['日期'] > '2023-01-01']\n",
    "# fund_data['对数收益率'] = fund_data['涨跌幅(%)'].apply(lambda x: np.log(1 + float(x)/ 100))\n",
    "# fund_data = fund_data[['日期', '代码', '对数收益率']].set_index(['日期', '代码']).unstack()\n",
    "# fund_data = fund_data.T.droplevel(0)\n",
    "# fund_data = fund_data.loc[fund_scale[fund_scale['IPO_DATE'] < '2023-07-18'].index]\n",
    "# fund_data = fund_data.T"
   ]
  },
  {
   "cell_type": "code",
   "execution_count": 9,
   "metadata": {},
   "outputs": [],
   "source": [
    "# res = pd.DataFrame()\n",
    "# for code in index_code_list:\n",
    "#     rank1 = fund_data.corrwith(index_data[index_data['代码'] == code]['对数收益率']).sort_values(ascending = False)[:5]\n",
    "#     df = pd.DataFrame(rank1).merge(fund_dict, left_index = True, right_on = '代码')\n",
    "#     df['申万二级行业代码'] = code\n",
    "#     res = pd.concat([res, df])"
   ]
  },
  {
   "cell_type": "code",
   "execution_count": 10,
   "metadata": {},
   "outputs": [],
   "source": [
    "# result = res.merge(fund_scale, left_on = '代码', right_index = True)\n",
    "# result = result.merge(index_list, left_on = '申万二级行业代码', right_on = 'wind_code')\n",
    "# result = result.drop(columns = '申万二级行业代码')\n",
    "# result = result.set_index(['wind_code', 'sec_name'])\n",
    "# result.columns = ['相关系数', '代码', '简称', '规模', '上市日期']\n",
    "# result = result.sort_values('相关系数', ascending = False).sort_index()"
   ]
  },
  {
   "cell_type": "code",
   "execution_count": 11,
   "metadata": {},
   "outputs": [],
   "source": [
    "# result.to_excel('./output/申万二级行业匹配new.xlsx')"
   ]
  },
  {
   "cell_type": "code",
   "execution_count": 126,
   "metadata": {},
   "outputs": [
    {
     "data": {
      "text/html": [
       "<div>\n",
       "<style scoped>\n",
       "    .dataframe tbody tr th:only-of-type {\n",
       "        vertical-align: middle;\n",
       "    }\n",
       "\n",
       "    .dataframe tbody tr th {\n",
       "        vertical-align: top;\n",
       "    }\n",
       "\n",
       "    .dataframe thead th {\n",
       "        text-align: right;\n",
       "    }\n",
       "</style>\n",
       "<table border=\"1\" class=\"dataframe\">\n",
       "  <thead>\n",
       "    <tr style=\"text-align: right;\">\n",
       "      <th></th>\n",
       "      <th>FUND_FUNDSCALE</th>\n",
       "      <th>IPO_DATE</th>\n",
       "      <th>代码</th>\n",
       "      <th>简称</th>\n",
       "    </tr>\n",
       "  </thead>\n",
       "  <tbody>\n",
       "    <tr>\n",
       "      <th>0</th>\n",
       "      <td>3.121675e+08</td>\n",
       "      <td>2023-07-20</td>\n",
       "      <td>159503.SZ</td>\n",
       "      <td>鹏扬国证财富管理ETF</td>\n",
       "    </tr>\n",
       "    <tr>\n",
       "      <th>1</th>\n",
       "      <td>2.463478e+08</td>\n",
       "      <td>2023-08-07</td>\n",
       "      <td>159511.SZ</td>\n",
       "      <td>南方中证通信服务ETF</td>\n",
       "    </tr>\n",
       "    <tr>\n",
       "      <th>103</th>\n",
       "      <td>2.591430e+08</td>\n",
       "      <td>2023-08-16</td>\n",
       "      <td>159510.SZ</td>\n",
       "      <td>华夏中证智选300价值稳健策略ETF</td>\n",
       "    </tr>\n",
       "    <tr>\n",
       "      <th>104</th>\n",
       "      <td>6.204819e+08</td>\n",
       "      <td>2023-07-25</td>\n",
       "      <td>159512.SZ</td>\n",
       "      <td>广发中证全指汽车ETF</td>\n",
       "    </tr>\n",
       "    <tr>\n",
       "      <th>105</th>\n",
       "      <td>1.343960e+09</td>\n",
       "      <td>2023-07-27</td>\n",
       "      <td>159516.SZ</td>\n",
       "      <td>国泰中证半导体材料设备主题ETF</td>\n",
       "    </tr>\n",
       "    <tr>\n",
       "      <th>439</th>\n",
       "      <td>1.998960e+09</td>\n",
       "      <td>2023-08-09</td>\n",
       "      <td>561260.SH</td>\n",
       "      <td>工银中证国新央企现代能源ETF</td>\n",
       "    </tr>\n",
       "    <tr>\n",
       "      <th>448</th>\n",
       "      <td>1.993970e+09</td>\n",
       "      <td>2023-08-09</td>\n",
       "      <td>561790.SH</td>\n",
       "      <td>博时中证国新央企现代能源ETF</td>\n",
       "    </tr>\n",
       "    <tr>\n",
       "      <th>463</th>\n",
       "      <td>1.999609e+09</td>\n",
       "      <td>2023-08-09</td>\n",
       "      <td>562850.SH</td>\n",
       "      <td>嘉实中证国新央企现代能源ETF</td>\n",
       "    </tr>\n",
       "  </tbody>\n",
       "</table>\n",
       "</div>"
      ],
      "text/plain": [
       "     FUND_FUNDSCALE   IPO_DATE         代码                  简称\n",
       "0      3.121675e+08 2023-07-20  159503.SZ         鹏扬国证财富管理ETF\n",
       "1      2.463478e+08 2023-08-07  159511.SZ         南方中证通信服务ETF\n",
       "103    2.591430e+08 2023-08-16  159510.SZ  华夏中证智选300价值稳健策略ETF\n",
       "104    6.204819e+08 2023-07-25  159512.SZ         广发中证全指汽车ETF\n",
       "105    1.343960e+09 2023-07-27  159516.SZ    国泰中证半导体材料设备主题ETF\n",
       "439    1.998960e+09 2023-08-09  561260.SH     工银中证国新央企现代能源ETF\n",
       "448    1.993970e+09 2023-08-09  561790.SH     博时中证国新央企现代能源ETF\n",
       "463    1.999609e+09 2023-08-09  562850.SH     嘉实中证国新央企现代能源ETF"
      ]
     },
     "execution_count": 126,
     "metadata": {},
     "output_type": "execute_result"
    }
   ],
   "source": [
    "# fund_scale[(fund_scale['IPO_DATE'] >= '2023-07-18')].merge(fund_dict, left_index = True, right_on = '代码')"
   ]
  },
  {
   "cell_type": "code",
   "execution_count": 2,
   "metadata": {},
   "outputs": [],
   "source": [
    "# index_list = w.wset(\"sectorconstituent\", \"date=2023-08-24;sectorId=a39901012f000000\", usedf=True)[1]\n",
    "# index_list = index_list[['wind_code', 'sec_name']]\n",
    "# index_code_list = index_list['wind_code'].tolist()"
   ]
  },
  {
   "cell_type": "code",
   "execution_count": 17,
   "metadata": {},
   "outputs": [],
   "source": [
    "# index_data = pd.read_csv('./data/中信二级行业行情序列.csv', encoding='gbk', usecols = [0, 1, 2, 4])\n",
    "# fund_data = pd.read_csv('./data/行业ETF行情序列.csv', encoding='gbk', usecols = [0, 1, 2, 4])\n",
    "# index_data = index_data[index_data['涨跌幅(%)'] != '--']\n",
    "# fund_data = fund_data[fund_data['涨跌幅(%)'] != '--']\n",
    "# fund_dict = fund_data[['代码', '简称']].drop_duplicates(ignore_index = True)"
   ]
  },
  {
   "cell_type": "code",
   "execution_count": 4,
   "metadata": {},
   "outputs": [],
   "source": [
    "# fund_scale = w.wss(fund_dict['代码'].tolist(), \"fund_fundscale, ipo_date\", \"\", usedf=True)[1]"
   ]
  },
  {
   "cell_type": "code",
   "execution_count": 18,
   "metadata": {},
   "outputs": [],
   "source": [
    "# index_data['对数收益率'] = index_data['涨跌幅(%)'].apply(lambda x: np.log(1 + float(x)/ 100))\n",
    "# index_data = index_data.set_index('日期')"
   ]
  },
  {
   "cell_type": "code",
   "execution_count": 6,
   "metadata": {},
   "outputs": [],
   "source": [
    "# fund_data['对数收益率'] = fund_data['涨跌幅(%)'].apply(lambda x: np.log(1 + float(x)/ 100))\n",
    "# fund_data = fund_data[['日期', '代码', '对数收益率']].set_index(['日期', '代码']).unstack()\n",
    "# fund_data = fund_data.T.droplevel(0)\n",
    "# fund_data = fund_data.loc[fund_scale[(fund_scale['IPO_DATE'] >= '2023-03-18') & (fund_scale['IPO_DATE'] < '2023-07-18')].index]\n",
    "# fund_data = fund_data.T"
   ]
  },
  {
   "cell_type": "code",
   "execution_count": 19,
   "metadata": {},
   "outputs": [],
   "source": [
    "# # 整个时间区间的表现\n",
    "# fund_data['对数收益率'] = fund_data['涨跌幅(%)'].apply(lambda x: np.log(1 + float(x)/ 100))\n",
    "# fund_data = fund_data[['日期', '代码', '对数收益率']].set_index(['日期', '代码']).unstack()\n",
    "# fund_data = fund_data.T.droplevel(0)\n",
    "# fund_data = fund_data.loc[fund_scale[fund_scale['IPO_DATE'] < '2023-03-18'].index]\n",
    "# fund_data = fund_data.T"
   ]
  },
  {
   "cell_type": "code",
   "execution_count": 12,
   "metadata": {},
   "outputs": [],
   "source": [
    "# # 2023 年之后的表现\n",
    "# fund_data = fund_data[fund_data['日期'] > '2023-01-01']\n",
    "# fund_data['对数收益率'] = fund_data['涨跌幅(%)'].apply(lambda x: np.log(1 + float(x)/ 100))\n",
    "# fund_data = fund_data[['日期', '代码', '对数收益率']].set_index(['日期', '代码']).unstack()\n",
    "# fund_data = fund_data.T.droplevel(0)\n",
    "# fund_data = fund_data.loc[fund_scale[fund_scale['IPO_DATE'] < '2023-07-18'].index]\n",
    "# fund_data = fund_data.T"
   ]
  },
  {
   "cell_type": "code",
   "execution_count": 20,
   "metadata": {},
   "outputs": [],
   "source": [
    "# res = pd.DataFrame()\n",
    "# for code in index_code_list:\n",
    "#     rank1 = fund_data.corrwith(index_data[index_data['代码'] == code]['对数收益率']).sort_values(ascending = False)[:5]\n",
    "#     df = pd.DataFrame(rank1).merge(fund_dict, left_index = True, right_on = '代码')\n",
    "#     df['中信二级行业代码'] = code\n",
    "#     res = pd.concat([res, df])"
   ]
  },
  {
   "cell_type": "code",
   "execution_count": 21,
   "metadata": {},
   "outputs": [],
   "source": [
    "# result = res.merge(fund_scale, left_on = '代码', right_index = True)\n",
    "# result = result.merge(index_list, left_on = '中信二级行业代码', right_on = 'wind_code')\n",
    "# result = result.drop(columns = '中信二级行业代码')\n",
    "# result = result.set_index(['wind_code', 'sec_name'])\n",
    "# result.columns = ['相关系数', '代码', '简称', '规模', '上市日期']\n",
    "# result = result.sort_values('相关系数', ascending = False).sort_index()"
   ]
  },
  {
   "cell_type": "code",
   "execution_count": 22,
   "metadata": {},
   "outputs": [],
   "source": [
    "# result.to_excel('./output/中信二级行业匹配1.xlsx')"
   ]
  },
  {
   "cell_type": "code",
   "execution_count": 16,
   "metadata": {},
   "outputs": [
    {
     "data": {
      "text/html": [
       "<div>\n",
       "<style scoped>\n",
       "    .dataframe tbody tr th:only-of-type {\n",
       "        vertical-align: middle;\n",
       "    }\n",
       "\n",
       "    .dataframe tbody tr th {\n",
       "        vertical-align: top;\n",
       "    }\n",
       "\n",
       "    .dataframe thead th {\n",
       "        text-align: right;\n",
       "    }\n",
       "</style>\n",
       "<table border=\"1\" class=\"dataframe\">\n",
       "  <thead>\n",
       "    <tr style=\"text-align: right;\">\n",
       "      <th></th>\n",
       "      <th>FUND_FUNDSCALE</th>\n",
       "      <th>IPO_DATE</th>\n",
       "      <th>代码</th>\n",
       "      <th>简称</th>\n",
       "    </tr>\n",
       "  </thead>\n",
       "  <tbody>\n",
       "    <tr>\n",
       "      <th>0</th>\n",
       "      <td>3.121675e+08</td>\n",
       "      <td>2023-07-20</td>\n",
       "      <td>159503.SZ</td>\n",
       "      <td>鹏扬国证财富管理ETF</td>\n",
       "    </tr>\n",
       "    <tr>\n",
       "      <th>1</th>\n",
       "      <td>2.463478e+08</td>\n",
       "      <td>2023-08-07</td>\n",
       "      <td>159511.SZ</td>\n",
       "      <td>南方中证通信服务ETF</td>\n",
       "    </tr>\n",
       "    <tr>\n",
       "      <th>103</th>\n",
       "      <td>2.591430e+08</td>\n",
       "      <td>2023-08-16</td>\n",
       "      <td>159510.SZ</td>\n",
       "      <td>华夏中证智选300价值稳健策略ETF</td>\n",
       "    </tr>\n",
       "    <tr>\n",
       "      <th>104</th>\n",
       "      <td>6.204819e+08</td>\n",
       "      <td>2023-07-25</td>\n",
       "      <td>159512.SZ</td>\n",
       "      <td>广发中证全指汽车ETF</td>\n",
       "    </tr>\n",
       "    <tr>\n",
       "      <th>105</th>\n",
       "      <td>1.343960e+09</td>\n",
       "      <td>2023-07-27</td>\n",
       "      <td>159516.SZ</td>\n",
       "      <td>国泰中证半导体材料设备主题ETF</td>\n",
       "    </tr>\n",
       "    <tr>\n",
       "      <th>439</th>\n",
       "      <td>1.998960e+09</td>\n",
       "      <td>2023-08-09</td>\n",
       "      <td>561260.SH</td>\n",
       "      <td>工银中证国新央企现代能源ETF</td>\n",
       "    </tr>\n",
       "    <tr>\n",
       "      <th>448</th>\n",
       "      <td>1.993970e+09</td>\n",
       "      <td>2023-08-09</td>\n",
       "      <td>561790.SH</td>\n",
       "      <td>博时中证国新央企现代能源ETF</td>\n",
       "    </tr>\n",
       "    <tr>\n",
       "      <th>463</th>\n",
       "      <td>1.999609e+09</td>\n",
       "      <td>2023-08-09</td>\n",
       "      <td>562850.SH</td>\n",
       "      <td>嘉实中证国新央企现代能源ETF</td>\n",
       "    </tr>\n",
       "  </tbody>\n",
       "</table>\n",
       "</div>"
      ],
      "text/plain": [
       "     FUND_FUNDSCALE   IPO_DATE         代码                  简称\n",
       "0      3.121675e+08 2023-07-20  159503.SZ         鹏扬国证财富管理ETF\n",
       "1      2.463478e+08 2023-08-07  159511.SZ         南方中证通信服务ETF\n",
       "103    2.591430e+08 2023-08-16  159510.SZ  华夏中证智选300价值稳健策略ETF\n",
       "104    6.204819e+08 2023-07-25  159512.SZ         广发中证全指汽车ETF\n",
       "105    1.343960e+09 2023-07-27  159516.SZ    国泰中证半导体材料设备主题ETF\n",
       "439    1.998960e+09 2023-08-09  561260.SH     工银中证国新央企现代能源ETF\n",
       "448    1.993970e+09 2023-08-09  561790.SH     博时中证国新央企现代能源ETF\n",
       "463    1.999609e+09 2023-08-09  562850.SH     嘉实中证国新央企现代能源ETF"
      ]
     },
     "execution_count": 16,
     "metadata": {},
     "output_type": "execute_result"
    }
   ],
   "source": [
    "# fund_scale[(fund_scale['IPO_DATE'] >= '2023-07-18')].merge(fund_dict, left_index = True, right_on = '代码')"
   ]
  }
 ],
 "metadata": {
  "kernelspec": {
   "display_name": "base",
   "language": "python",
   "name": "python3"
  },
  "language_info": {
   "codemirror_mode": {
    "name": "ipython",
    "version": 3
   },
   "file_extension": ".py",
   "mimetype": "text/x-python",
   "name": "python",
   "nbconvert_exporter": "python",
   "pygments_lexer": "ipython3",
   "version": "3.8.8"
  },
  "orig_nbformat": 4
 },
 "nbformat": 4,
 "nbformat_minor": 2
}
